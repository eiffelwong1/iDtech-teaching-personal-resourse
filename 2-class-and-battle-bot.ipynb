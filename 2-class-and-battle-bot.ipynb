{
 "cells": [
  {
   "cell_type": "code",
   "execution_count": 24,
   "metadata": {},
   "outputs": [
    {
     "name": "stdout",
     "output_type": "stream",
     "text": [
      "100 105\n",
      "105 110\n",
      "95 90\n",
      "95 70\n",
      "95 50\n",
      "95 55\n",
      "95 25\n",
      "95 30\n",
      "95 -10\n"
     ]
    }
   ],
   "source": [
    "import random\n",
    "\n",
    "class bot:\n",
    "    health = 100\n",
    "    armor = 5\n",
    "    damage = 10\n",
    "    speed = 10\n",
    "    name = \"nameless\"\n",
    "    def __init__(self, name):\n",
    "        self.name = name\n",
    "        \n",
    "    def attact(self, target):\n",
    "        target.health -= self.damage\n",
    "        \n",
    "    def build_damage(self):\n",
    "        self.damage += 10\n",
    "        \n",
    "    def heal(self):\n",
    "        self.health += 5\n",
    "        \n",
    "    def take_damage(self, damage):\n",
    "        self.health -= damage - armor\n",
    "        \n",
    "    def print_stats(self):\n",
    "        print(self.name)\n",
    "        print(\"health:\", self.health)\n",
    "        print(\"armor: \", self.armor)\n",
    "        print(\"damage:\", self.damage)\n",
    "        print(\"speed: \", self.speed)\n",
    "        \n",
    "    def is_alive(self):\n",
    "        return self.health > 0\n",
    "    \n",
    "    def action(self, target):\n",
    "        action = random.randint(1,3)\n",
    "        \n",
    "        if(action == 1):\n",
    "            self.attact(target)\n",
    "        elif(action == 2):\n",
    "            self.heal()\n",
    "        elif(action == 3):\n",
    "            self.build_damage()\n",
    "        else:\n",
    "            print(\"out of range\")\n",
    "\n",
    "b1 = bot(\"bot 1\")\n",
    "b2 = bot(\"bot 2\")\n",
    "i = 0;\n",
    "while b1.is_alive() and b2.is_alive():\n",
    "    b1.action(b2)\n",
    "    b2.action(b1)\n",
    "    print(b1.health, b2.health)"
   ]
  },
  {
   "cell_type": "code",
   "execution_count": 16,
   "metadata": {},
   "outputs": [
    {
     "name": "stdout",
     "output_type": "stream",
     "text": [
      "bot 1\n",
      "health: 90\n",
      "armor:  5\n",
      "damage: 10\n",
      "speed:  10\n",
      "bot 2\n",
      "health: 100\n",
      "armor:  5\n",
      "damage: 10\n",
      "speed:  10\n"
     ]
    }
   ],
   "source": [
    "b1 = bot(\"bot 1\")\n",
    "b2 = bot(\"bot 2\")\n",
    "\n",
    "b2.attact(b1)\n",
    "\n",
    "b1.print_stats()\n",
    "b2.print_stats()"
   ]
  }
 ],
 "metadata": {
  "kernelspec": {
   "display_name": "Python 3",
   "language": "python",
   "name": "python3"
  },
  "language_info": {
   "codemirror_mode": {
    "name": "ipython",
    "version": 3
   },
   "file_extension": ".py",
   "mimetype": "text/x-python",
   "name": "python",
   "nbconvert_exporter": "python",
   "pygments_lexer": "ipython3",
   "version": "3.7.3"
  }
 },
 "nbformat": 4,
 "nbformat_minor": 2
}
